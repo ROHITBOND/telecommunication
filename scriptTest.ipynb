{
 "cells": [
  {
   "cell_type": "code",
   "execution_count": 2,
   "metadata": {
    "collapsed": true
   },
   "outputs": [],
   "source": [
    "from pymongo import MongoClient\n",
    "import pandas as pd\n",
    "import numpy as np"
   ]
  },
  {
   "cell_type": "code",
   "execution_count": 3,
   "metadata": {
    "collapsed": true
   },
   "outputs": [],
   "source": [
    "def _connect_mongo():\n",
    "    \"\"\" A util for making a connection to mongo \"\"\"\n",
    "    host = \"localhost\"\n",
    "    port = 27017\n",
    "    username = \"\"\n",
    "    password = \"\"\n",
    "    db = \"5gopt\"\n",
    "\n",
    "    if username and password:\n",
    "        mongo_uri = 'mongodb://%s:%s@%s:%s/%s' % (username, password, host, port, db)\n",
    "        conn = MongoClient(mongo_uri)\n",
    "    else:\n",
    "        conn = MongoClient(host, port)\n",
    "\n",
    "\n",
    "    return conn[db]"
   ]
  },
  {
   "cell_type": "code",
   "execution_count": 4,
   "metadata": {
    "collapsed": true
   },
   "outputs": [],
   "source": [
    "def collection_read_mongo(collection, query={}, no_id = True):\n",
    "    db = _connect_mongo()\n",
    "    cursor = db[collection].find(query)\n",
    "    df = pd.DataFrame(list(cursor))\n",
    "\n",
    "    if no_id:\n",
    "        try:\n",
    "            del df[\"_id\"]\n",
    "        except:\n",
    "            pass\n",
    "    return df"
   ]
  },
  {
   "cell_type": "code",
   "execution_count": 5,
   "metadata": {
    "collapsed": true
   },
   "outputs": [],
   "source": [
    "data = collection_read_mongo(collection=\"main_file_with_UserTHR\")"
   ]
  },
  {
   "cell_type": "code",
   "execution_count": 6,
   "metadata": {},
   "outputs": [
    {
     "data": {
      "text/plain": [
       "(2202660, 9)"
      ]
     },
     "execution_count": 6,
     "metadata": {},
     "output_type": "execute_result"
    }
   ],
   "source": [
    "data.shape"
   ]
  },
  {
   "cell_type": "code",
   "execution_count": 7,
   "metadata": {},
   "outputs": [
    {
     "data": {
      "text/html": [
       "<div>\n",
       "<style>\n",
       "    .dataframe thead tr:only-child th {\n",
       "        text-align: right;\n",
       "    }\n",
       "\n",
       "    .dataframe thead th {\n",
       "        text-align: left;\n",
       "    }\n",
       "\n",
       "    .dataframe tbody tr th {\n",
       "        vertical-align: top;\n",
       "    }\n",
       "</style>\n",
       "<table border=\"1\" class=\"dataframe\">\n",
       "  <thead>\n",
       "    <tr style=\"text-align: right;\">\n",
       "      <th></th>\n",
       "      <th>CellID</th>\n",
       "      <th>LocationX</th>\n",
       "      <th>LocationY</th>\n",
       "      <th>RSRP</th>\n",
       "      <th>RSRQ</th>\n",
       "      <th>SINR</th>\n",
       "      <th>Time</th>\n",
       "      <th>UserID</th>\n",
       "      <th>UserThR</th>\n",
       "    </tr>\n",
       "  </thead>\n",
       "  <tbody>\n",
       "    <tr>\n",
       "      <th>0</th>\n",
       "      <td>1</td>\n",
       "      <td>361.511436</td>\n",
       "      <td>361.511436</td>\n",
       "      <td>-67.061741</td>\n",
       "      <td>NaN</td>\n",
       "      <td>86</td>\n",
       "      <td>0.2</td>\n",
       "      <td>1</td>\n",
       "      <td>86</td>\n",
       "    </tr>\n",
       "    <tr>\n",
       "      <th>1</th>\n",
       "      <td>2</td>\n",
       "      <td>361.511436</td>\n",
       "      <td>361.511436</td>\n",
       "      <td>-83.859050</td>\n",
       "      <td>NaN</td>\n",
       "      <td>77</td>\n",
       "      <td>0.2</td>\n",
       "      <td>1</td>\n",
       "      <td>77</td>\n",
       "    </tr>\n",
       "    <tr>\n",
       "      <th>2</th>\n",
       "      <td>3</td>\n",
       "      <td>361.511436</td>\n",
       "      <td>361.511436</td>\n",
       "      <td>-83.203628</td>\n",
       "      <td>NaN</td>\n",
       "      <td>15</td>\n",
       "      <td>0.2</td>\n",
       "      <td>1</td>\n",
       "      <td>15</td>\n",
       "    </tr>\n",
       "  </tbody>\n",
       "</table>\n",
       "</div>"
      ],
      "text/plain": [
       "   CellID   LocationX   LocationY       RSRP  RSRQ  SINR  Time  UserID  \\\n",
       "0       1  361.511436  361.511436 -67.061741   NaN    86   0.2       1   \n",
       "1       2  361.511436  361.511436 -83.859050   NaN    77   0.2       1   \n",
       "2       3  361.511436  361.511436 -83.203628   NaN    15   0.2       1   \n",
       "\n",
       "   UserThR  \n",
       "0       86  \n",
       "1       77  \n",
       "2       15  "
      ]
     },
     "execution_count": 7,
     "metadata": {},
     "output_type": "execute_result"
    }
   ],
   "source": [
    "data[:3]"
   ]
  },
  {
   "cell_type": "code",
   "execution_count": 9,
   "metadata": {},
   "outputs": [],
   "source": [
    "testData = data[:10000]"
   ]
  },
  {
   "cell_type": "code",
   "execution_count": null,
   "metadata": {
    "collapsed": true
   },
   "outputs": [],
   "source": []
  },
  {
   "cell_type": "code",
   "execution_count": 10,
   "metadata": {
    "collapsed": true
   },
   "outputs": [],
   "source": [
    "wantedDF = pd.DataFrame(columns=[\"Time\", \"User\", \"LocationX\", \"LocationY\", \"RSRP_1st\", \"1stRSRP_Corresponding_RSRQ\",\n",
    "                                 \"Serving_Cell\",\"RSRP_2nd\", \"2ndRSRP_Corresponding_RSRQ\", \"RSRP_3rd\", \"3rdRSRP_Corresponding_RSRQ\",\n",
    "                                 \"RSRP_4th\", \"4thRSRP_Corresponding_RSRQ\"])\n",
    "i = 0\n",
    "jj = 0\n",
    "for stamp, group in testData.groupby([\"Time\", \"UserID\"]):\n",
    "    #     rsrp_top3 = [0,0,0]\n",
    "    #     rsrp_matched_record_index = [0, 0,0]\n",
    "    rsrpIndexList = list()\n",
    "    for j in range(group.shape[0]):\n",
    "        rsrpIndexList.append((jj, group[\"RSRP\"][jj]))\n",
    "        jj += 1\n",
    "    rsrpIndexListSorted = sorted(rsrpIndexList, key=lambda x: x[1], reverse=True)\n",
    "    row_rsrp1st = group.loc[rsrpIndexListSorted[0][0]]\n",
    "    a = row_rsrp1st[\"Time\"]\n",
    "    b = int(row_rsrp1st[\"UserID\"])    \n",
    "#     if (rsrpIndexListSorted[1][0] == int(998)):\n",
    "# #         print(group.loc[998])\n",
    "# #         print(group.loc[998][\"RSRP\"])\n",
    "# #         print(group.index)\n",
    "#         print(rsrpIndexListSorted)\n",
    "    c = row_rsrp1st[\"LocationX\"]\n",
    "    d = row_rsrp1st[\"LocationY\"]\n",
    "    e = row_rsrp1st[\"RSRP\"]\n",
    "    f = row_rsrp1st[\"RSRQ\"]\n",
    "    g = int(row_rsrp1st[\"CellID\"])\n",
    "#     if (rsrpIndexListSorted[1][0] == int(998)):\n",
    "# #         print(group.loc[998])\n",
    "# #         print(group.loc[998][\"RSRP\"])\n",
    "# #         print(group.index)\n",
    "#         print(rsrpIndexListSorted)\n",
    "    try:\n",
    "        h = group.loc[rsrpIndexListSorted[1][0]][\"RSRP\"]\n",
    "    except:\n",
    "        h = None\n",
    "    try:\n",
    "        p = group.loc[rsrpIndexListSorted[1][0]][\"RSRQ\"]\n",
    "    except:\n",
    "        p = None\n",
    "    try:\n",
    "        k = group.loc[rsrpIndexListSorted[2][0]][\"RSRP\"]\n",
    "    except:\n",
    "        k = None\n",
    "    try:\n",
    "        l = group.loc[rsrpIndexListSorted[2][0]][\"RSRQ\"]\n",
    "    except:\n",
    "        l = None\n",
    "    try:\n",
    "        m = group.loc[rsrpIndexListSorted[3][0]][\"RSRP\"]\n",
    "    except:\n",
    "        m = None\n",
    "    try:\n",
    "        n = group.loc[rsrpIndexListSorted[3][0]][\"RSRQ\"]\n",
    "    except:\n",
    "        n = None\n",
    "    # wantedDF.append([{\"Time\": a, \"User\": b, \"LocationX\": c, \"LocationY\": d, \"RSRP_1st\": e, \"1stRSRP_Corresponding_RSRQ\": f,\n",
    "    #                 \"Serving_Cell\": g,\"RSRP_2nd\":h, \"2ndRSRP_Corresponding_RSRQ\": p, \"RSRP_3rd\": k, \"3rdRSRP_Corresponding_RSRQ\":l,\n",
    "    #                              \"RSRP_4th\":m, \"4thRSRP_Corresponding_RSRQ\": n}], ignore_index=True)\n",
    "    wantedDF.loc[i] = [a, b, c, d, e, f, g, h, p, k, l, m, n]\n",
    "    i += 1\n"
   ]
  },
  {
   "cell_type": "code",
   "execution_count": 11,
   "metadata": {},
   "outputs": [
    {
     "data": {
      "text/html": [
       "<div>\n",
       "<style>\n",
       "    .dataframe thead tr:only-child th {\n",
       "        text-align: right;\n",
       "    }\n",
       "\n",
       "    .dataframe thead th {\n",
       "        text-align: left;\n",
       "    }\n",
       "\n",
       "    .dataframe tbody tr th {\n",
       "        vertical-align: top;\n",
       "    }\n",
       "</style>\n",
       "<table border=\"1\" class=\"dataframe\">\n",
       "  <thead>\n",
       "    <tr style=\"text-align: right;\">\n",
       "      <th></th>\n",
       "      <th>Time</th>\n",
       "      <th>User</th>\n",
       "      <th>LocationX</th>\n",
       "      <th>LocationY</th>\n",
       "      <th>RSRP_1st</th>\n",
       "      <th>1stRSRP_Corresponding_RSRQ</th>\n",
       "      <th>Serving_Cell</th>\n",
       "      <th>RSRP_2nd</th>\n",
       "      <th>2ndRSRP_Corresponding_RSRQ</th>\n",
       "      <th>RSRP_3rd</th>\n",
       "      <th>3rdRSRP_Corresponding_RSRQ</th>\n",
       "      <th>RSRP_4th</th>\n",
       "      <th>4thRSRP_Corresponding_RSRQ</th>\n",
       "    </tr>\n",
       "  </thead>\n",
       "  <tbody>\n",
       "    <tr>\n",
       "      <th>0</th>\n",
       "      <td>0.2</td>\n",
       "      <td>1.0</td>\n",
       "      <td>361.511436</td>\n",
       "      <td>361.511436</td>\n",
       "      <td>-67.061741</td>\n",
       "      <td>NaN</td>\n",
       "      <td>1.0</td>\n",
       "      <td>-78.677853</td>\n",
       "      <td>NaN</td>\n",
       "      <td>-83.203628</td>\n",
       "      <td>NaN</td>\n",
       "      <td>-83.859050</td>\n",
       "      <td>NaN</td>\n",
       "    </tr>\n",
       "    <tr>\n",
       "      <th>1</th>\n",
       "      <td>0.2</td>\n",
       "      <td>2.0</td>\n",
       "      <td>115.645597</td>\n",
       "      <td>115.645597</td>\n",
       "      <td>-70.510089</td>\n",
       "      <td>NaN</td>\n",
       "      <td>2.0</td>\n",
       "      <td>-76.322449</td>\n",
       "      <td>NaN</td>\n",
       "      <td>-77.959624</td>\n",
       "      <td>NaN</td>\n",
       "      <td>-81.337600</td>\n",
       "      <td>NaN</td>\n",
       "    </tr>\n",
       "    <tr>\n",
       "      <th>2</th>\n",
       "      <td>0.2</td>\n",
       "      <td>3.0</td>\n",
       "      <td>508.575506</td>\n",
       "      <td>508.575506</td>\n",
       "      <td>-59.578504</td>\n",
       "      <td>NaN</td>\n",
       "      <td>9.0</td>\n",
       "      <td>-72.264892</td>\n",
       "      <td>NaN</td>\n",
       "      <td>-77.128955</td>\n",
       "      <td>NaN</td>\n",
       "      <td>-78.963633</td>\n",
       "      <td>NaN</td>\n",
       "    </tr>\n",
       "    <tr>\n",
       "      <th>3</th>\n",
       "      <td>0.2</td>\n",
       "      <td>4.0</td>\n",
       "      <td>-56.111591</td>\n",
       "      <td>-56.111591</td>\n",
       "      <td>-74.415211</td>\n",
       "      <td>NaN</td>\n",
       "      <td>6.0</td>\n",
       "      <td>-76.524749</td>\n",
       "      <td>NaN</td>\n",
       "      <td>-82.282601</td>\n",
       "      <td>NaN</td>\n",
       "      <td>-90.343716</td>\n",
       "      <td>NaN</td>\n",
       "    </tr>\n",
       "    <tr>\n",
       "      <th>4</th>\n",
       "      <td>0.2</td>\n",
       "      <td>5.0</td>\n",
       "      <td>560.222412</td>\n",
       "      <td>560.222412</td>\n",
       "      <td>-76.896658</td>\n",
       "      <td>NaN</td>\n",
       "      <td>9.0</td>\n",
       "      <td>-78.247008</td>\n",
       "      <td>NaN</td>\n",
       "      <td>-80.598858</td>\n",
       "      <td>NaN</td>\n",
       "      <td>-86.688084</td>\n",
       "      <td>NaN</td>\n",
       "    </tr>\n",
       "    <tr>\n",
       "      <th>5</th>\n",
       "      <td>0.2</td>\n",
       "      <td>6.0</td>\n",
       "      <td>314.432120</td>\n",
       "      <td>314.432120</td>\n",
       "      <td>-72.087363</td>\n",
       "      <td>NaN</td>\n",
       "      <td>9.0</td>\n",
       "      <td>-73.701493</td>\n",
       "      <td>NaN</td>\n",
       "      <td>-77.195675</td>\n",
       "      <td>NaN</td>\n",
       "      <td>-88.472338</td>\n",
       "      <td>NaN</td>\n",
       "    </tr>\n",
       "    <tr>\n",
       "      <th>6</th>\n",
       "      <td>0.2</td>\n",
       "      <td>7.0</td>\n",
       "      <td>436.666424</td>\n",
       "      <td>436.666424</td>\n",
       "      <td>-69.656379</td>\n",
       "      <td>NaN</td>\n",
       "      <td>1.0</td>\n",
       "      <td>-77.415517</td>\n",
       "      <td>NaN</td>\n",
       "      <td>-85.754520</td>\n",
       "      <td>NaN</td>\n",
       "      <td>-90.150642</td>\n",
       "      <td>NaN</td>\n",
       "    </tr>\n",
       "    <tr>\n",
       "      <th>7</th>\n",
       "      <td>0.2</td>\n",
       "      <td>8.0</td>\n",
       "      <td>473.794748</td>\n",
       "      <td>473.794748</td>\n",
       "      <td>-67.629274</td>\n",
       "      <td>NaN</td>\n",
       "      <td>9.0</td>\n",
       "      <td>-77.987573</td>\n",
       "      <td>NaN</td>\n",
       "      <td>-80.917269</td>\n",
       "      <td>NaN</td>\n",
       "      <td>-84.305032</td>\n",
       "      <td>NaN</td>\n",
       "    </tr>\n",
       "    <tr>\n",
       "      <th>8</th>\n",
       "      <td>0.2</td>\n",
       "      <td>9.0</td>\n",
       "      <td>-185.847039</td>\n",
       "      <td>-185.847039</td>\n",
       "      <td>-77.306348</td>\n",
       "      <td>NaN</td>\n",
       "      <td>6.0</td>\n",
       "      <td>-84.278224</td>\n",
       "      <td>NaN</td>\n",
       "      <td>-84.625498</td>\n",
       "      <td>NaN</td>\n",
       "      <td>-85.726998</td>\n",
       "      <td>NaN</td>\n",
       "    </tr>\n",
       "    <tr>\n",
       "      <th>9</th>\n",
       "      <td>0.2</td>\n",
       "      <td>10.0</td>\n",
       "      <td>-140.331367</td>\n",
       "      <td>-140.331367</td>\n",
       "      <td>-67.313930</td>\n",
       "      <td>NaN</td>\n",
       "      <td>5.0</td>\n",
       "      <td>-82.450073</td>\n",
       "      <td>NaN</td>\n",
       "      <td>-85.256550</td>\n",
       "      <td>NaN</td>\n",
       "      <td>-89.393429</td>\n",
       "      <td>NaN</td>\n",
       "    </tr>\n",
       "  </tbody>\n",
       "</table>\n",
       "</div>"
      ],
      "text/plain": [
       "   Time  User   LocationX   LocationY   RSRP_1st  1stRSRP_Corresponding_RSRQ  \\\n",
       "0   0.2   1.0  361.511436  361.511436 -67.061741                         NaN   \n",
       "1   0.2   2.0  115.645597  115.645597 -70.510089                         NaN   \n",
       "2   0.2   3.0  508.575506  508.575506 -59.578504                         NaN   \n",
       "3   0.2   4.0  -56.111591  -56.111591 -74.415211                         NaN   \n",
       "4   0.2   5.0  560.222412  560.222412 -76.896658                         NaN   \n",
       "5   0.2   6.0  314.432120  314.432120 -72.087363                         NaN   \n",
       "6   0.2   7.0  436.666424  436.666424 -69.656379                         NaN   \n",
       "7   0.2   8.0  473.794748  473.794748 -67.629274                         NaN   \n",
       "8   0.2   9.0 -185.847039 -185.847039 -77.306348                         NaN   \n",
       "9   0.2  10.0 -140.331367 -140.331367 -67.313930                         NaN   \n",
       "\n",
       "   Serving_Cell   RSRP_2nd  2ndRSRP_Corresponding_RSRQ   RSRP_3rd  \\\n",
       "0           1.0 -78.677853                         NaN -83.203628   \n",
       "1           2.0 -76.322449                         NaN -77.959624   \n",
       "2           9.0 -72.264892                         NaN -77.128955   \n",
       "3           6.0 -76.524749                         NaN -82.282601   \n",
       "4           9.0 -78.247008                         NaN -80.598858   \n",
       "5           9.0 -73.701493                         NaN -77.195675   \n",
       "6           1.0 -77.415517                         NaN -85.754520   \n",
       "7           9.0 -77.987573                         NaN -80.917269   \n",
       "8           6.0 -84.278224                         NaN -84.625498   \n",
       "9           5.0 -82.450073                         NaN -85.256550   \n",
       "\n",
       "   3rdRSRP_Corresponding_RSRQ   RSRP_4th  4thRSRP_Corresponding_RSRQ  \n",
       "0                         NaN -83.859050                         NaN  \n",
       "1                         NaN -81.337600                         NaN  \n",
       "2                         NaN -78.963633                         NaN  \n",
       "3                         NaN -90.343716                         NaN  \n",
       "4                         NaN -86.688084                         NaN  \n",
       "5                         NaN -88.472338                         NaN  \n",
       "6                         NaN -90.150642                         NaN  \n",
       "7                         NaN -84.305032                         NaN  \n",
       "8                         NaN -85.726998                         NaN  \n",
       "9                         NaN -89.393429                         NaN  "
      ]
     },
     "execution_count": 11,
     "metadata": {},
     "output_type": "execute_result"
    }
   ],
   "source": [
    "wantedDF.head(10)"
   ]
  },
  {
   "cell_type": "code",
   "execution_count": 21,
   "metadata": {},
   "outputs": [],
   "source": [
    "# clearn rows which contains none column value\n",
    "cleanedWantedDF = wantedDF.dropna(axis=0, how=\"any\")"
   ]
  },
  {
   "cell_type": "code",
   "execution_count": 13,
   "metadata": {
    "collapsed": true
   },
   "outputs": [],
   "source": [
    "# apply MDS dimension reduction technology\n",
    "from sklearn.manifold import MDS"
   ]
  },
  {
   "cell_type": "code",
   "execution_count": 15,
   "metadata": {
    "collapsed": true
   },
   "outputs": [],
   "source": [
    "seed = np.random.RandomState(seed=3)"
   ]
  },
  {
   "cell_type": "code",
   "execution_count": 16,
   "metadata": {},
   "outputs": [
    {
     "data": {
      "text/plain": [
       "<mtrand.RandomState at 0x7f3102a80480>"
      ]
     },
     "execution_count": 16,
     "metadata": {},
     "output_type": "execute_result"
    }
   ],
   "source": [
    "seed"
   ]
  },
  {
   "cell_type": "code",
   "execution_count": 22,
   "metadata": {},
   "outputs": [],
   "source": [
    "mds = MDS(n_components=2, max_iter=1000, eps=1e-9, random_state=seed, dissimilarity=\"euclidean\", n_jobs=2)"
   ]
  },
  {
   "cell_type": "code",
   "execution_count": 28,
   "metadata": {},
   "outputs": [],
   "source": [
    "pos = mds.fit_transform(cleanedWantedDF)"
   ]
  },
  {
   "cell_type": "code",
   "execution_count": 29,
   "metadata": {},
   "outputs": [
    {
     "data": {
      "text/plain": [
       "array([[  99.91802022,  147.80627035],\n",
       "       [ -91.52194429, -142.32135009],\n",
       "       [ 188.40758985,  344.00129308],\n",
       "       ..., \n",
       "       [-180.19476634, -288.29942581],\n",
       "       [-169.68541993, -339.65429546],\n",
       "       [  43.57219749,   35.39243691]])"
      ]
     },
     "execution_count": 29,
     "metadata": {},
     "output_type": "execute_result"
    }
   ],
   "source": [
    "pos"
   ]
  },
  {
   "cell_type": "code",
   "execution_count": 32,
   "metadata": {},
   "outputs": [
    {
     "data": {
      "image/png": "[encoded data removed]",
      "text/plain": [
       "<matplotlib.figure.Figure at 0x7f30f8f2ceb8>"
      ]
     },
     "metadata": {},
     "output_type": "display_data"
    }
   ],
   "source": [
    "import matplotlib.pyplot as plt\n",
    "plt.scatter(pos[:, 0], pos[:, 1])\n",
    "plt.show()"
   ]
  },
  {
   "cell_type": "code",
   "execution_count": 33,
   "metadata": {
    "collapsed": true
   },
   "outputs": [],
   "source": [
    "mds3D = MDS(n_components=3, max_iter=1000, eps=1e-7, random_state=seed, dissimilarity=\"euclidean\", n_jobs=2)"
   ]
  },
  {
   "cell_type": "code",
   "execution_count": 34,
   "metadata": {
    "collapsed": true
   },
   "outputs": [],
   "source": [
    "out = mds3D.fit_transform(cleanedWantedDF)"
   ]
  },
  {
   "cell_type": "code",
   "execution_count": 37,
   "metadata": {},
   "outputs": [
    {
     "data": {
      "text/plain": [
       "array([[   3.78552174,  100.70901557, -147.55674385],\n",
       "       [ -11.11964387,  -89.22703649,  143.16036242],\n",
       "       [  34.49011447,  218.56172113, -324.37860619]])"
      ]
     },
     "execution_count": 37,
     "metadata": {},
     "output_type": "execute_result"
    }
   ],
   "source": [
    "out[:3]"
   ]
  },
  {
   "cell_type": "code",
   "execution_count": 39,
   "metadata": {
    "collapsed": true
   },
   "outputs": [],
   "source": [
    "from mpl_toolkits import mplot3d\n",
    "ax = plt.axes(projection=\"3d\")"
   ]
  },
  {
   "cell_type": "code",
   "execution_count": 42,
   "metadata": {},
   "outputs": [
    {
     "data": {
      "image/png": "[encoded data removed]",
      "text/plain": [
       "<matplotlib.figure.Figure at 0x7f30eb1e46d8>"
      ]
     },
     "metadata": {},
     "output_type": "display_data"
    }
   ],
   "source": [
    "ax.scatter3D(out[:,0], out[:,1], out[:,2])\n",
    "ax.view_init(azim=70, elev=50)\n",
    "plt.show()"
   ]
  },
  {
   "cell_type": "code",
   "execution_count": 38,
   "metadata": {},
   "outputs": [
    {
     "name": "stderr",
     "output_type": "stream",
     "text": [
      "/home/yizhou/anaconda3/lib/python3.6/site-packages/matplotlib/collections.py:836: RuntimeWarning: invalid value encountered in sqrt\n",
      "  scale = np.sqrt(self._sizes) * dpi / 72.0 * self._factor\n"
     ]
    },
    {
     "data": {
      "image/png": "[encoded data removed]",
      "text/plain": [
       "<matplotlib.figure.Figure at 0x7f30eb19cf98>"
      ]
     },
     "metadata": {},
     "output_type": "display_data"
    }
   ],
   "source": [
    "\n",
    "plt.scatter(out[:, 0], out[:, 1], out[:,2])\n",
    "plt.show()"
   ]
  },
  {
   "cell_type": "code",
   "execution_count": 44,
   "metadata": {
    "collapsed": true
   },
   "outputs": [],
   "source": [
    "# after getting reduced-dimensional data, then calculate the nearest neighbor iterately\n",
    "# store the embedded measurement in csv file, reference database\n",
    "np.savetxt('embedding.csv', out, delimiter=\",\")"
   ]
  },
  {
   "cell_type": "code",
   "execution_count": 45,
   "metadata": {},
   "outputs": [
    {
     "data": {
      "text/latex": [
       "\\begin{eqnarray}\n",
       "\\nabla \\times \\vec{\\mathbf{B}} -\\, \\frac1c\\, \\frac{\\partial\\vec{\\mathbf{E}}}{\\partial t} & = \\frac{4\\pi}{c}\\vec{\\mathbf{j}} \\\\\n",
       "\\nabla \\cdot \\vec{\\mathbf{E}} & = 4 \\pi \\rho \\\\\n",
       "\\nabla \\times \\vec{\\mathbf{E}}\\, +\\, \\frac1c\\, \\frac{\\partial\\vec{\\mathbf{B}}}{\\partial t} & = \\vec{\\mathbf{0}} \\\\\n",
       "\\nabla \\cdot \\vec{\\mathbf{B}} & = 0 \n",
       "\\end{eqnarray}"
      ],
      "text/plain": [
       "<IPython.core.display.Latex object>"
      ]
     },
     "execution_count": 45,
     "metadata": {},
     "output_type": "execute_result"
    }
   ],
   "source": [
    "from IPython.display import Latex\n",
    "Latex(r\"\"\"\\begin{eqnarray}\n",
    "\\nabla \\times \\vec{\\mathbf{B}} -\\, \\frac1c\\, \\frac{\\partial\\vec{\\mathbf{E}}}{\\partial t} & = \\frac{4\\pi}{c}\\vec{\\mathbf{j}} \\\\\n",
    "\\nabla \\cdot \\vec{\\mathbf{E}} & = 4 \\pi \\rho \\\\\n",
    "\\nabla \\times \\vec{\\mathbf{E}}\\, +\\, \\frac1c\\, \\frac{\\partial\\vec{\\mathbf{B}}}{\\partial t} & = \\vec{\\mathbf{0}} \\\\\n",
    "\\nabla \\cdot \\vec{\\mathbf{B}} & = 0 \n",
    "\\end{eqnarray}\"\"\")"
   ]
  },
  {
   "cell_type": "code",
   "execution_count": 47,
   "metadata": {},
   "outputs": [
    {
     "data": {
      "text/latex": [
       "\\begin{eqnarray}\n",
       "D_{k-NNAD}(x_{i}, k, D_{M}) = \\frac{1}{N_{tr}} \\sum_{N_{tr}}^{i=1} I(d_{t} <= d_{i}) \\\\\n",
       "\\end{eqnarry}"
      ],
      "text/plain": [
       "<IPython.core.display.Latex object>"
      ]
     },
     "execution_count": 47,
     "metadata": {},
     "output_type": "execute_result"
    }
   ],
   "source": [
    "Latex(r\"\"\"\\begin{eqnarray}\n",
    "D_{k-NNAD}(x_{i}, k, D_{M}) = \\frac{1}{N_{tr}} \\sum_{N_{tr}}^{i=1} I(d_{t} <= d_{i}) \\\\\n",
    "\\end{eqnarry}\"\"\")"
   ]
  },
  {
   "cell_type": "code",
   "execution_count": 50,
   "metadata": {},
   "outputs": [],
   "source": [
    "# use cross validation method, k-fold, k = 10\n",
    "from sklearn.model_selection import KFold\n",
    "k = 10\n",
    "kf = KFold(n_splits = k)\n",
    "indicesList = list()\n",
    "for train, test in kf.split(out):\n",
    "    indicesList.append((train, test))\n"
   ]
  },
  {
   "cell_type": "code",
   "execution_count": null,
   "metadata": {
    "collapsed": true
   },
   "outputs": [],
   "source": [
    "\n",
    "N_tr = len(indicesList[0][0])+len(indicesList[0][1])\n",
    "# k means the top k nearest neighbor\n",
    "k = 50 \n",
    "trainData = np.take(out, indicesList[0][0])\n",
    "testData = np.take(out, indicesList[0][1])\n",
    "\n",
    "# for each data in test dataset, calculate distance between it and each data point in train dataset\n",
    "# pick the top k(k=50)\n",
    "for i in testData:\n",
    "    distList = list()\n",
    "    for j in trainData:\n",
    "        distance = np.sqrt(np.sum((i-j)**2, axis=1))\n",
    "        distList.append(distance)\n",
    "#     sort distList and then pick the top k(k =50) elems\n",
    "    distList = sorted(distList, reverse=True)\n",
    "    topKDist = distList[:k]\n",
    "    \n",
    "        \n",
    "        \n"
   ]
  },
  {
   "cell_type": "code",
   "execution_count": 25,
   "metadata": {},
   "outputs": [
    {
     "data": {
      "text/plain": [
       "{'dissimilarity': 'euclidean',\n",
       " 'eps': 1e-09,\n",
       " 'max_iter': 1000,\n",
       " 'metric': True,\n",
       " 'n_components': 2,\n",
       " 'n_init': 4,\n",
       " 'n_jobs': 2,\n",
       " 'random_state': <mtrand.RandomState at 0x7f3102a80480>,\n",
       " 'verbose': 0}"
      ]
     },
     "execution_count": 25,
     "metadata": {},
     "output_type": "execute_result"
    }
   ],
   "source": [
    "pos.get_params()"
   ]
  },
  {
   "cell_type": "code",
   "execution_count": 27,
   "metadata": {},
   "outputs": [
    {
     "data": {
      "text/plain": [
       "{'dissimilarity': 'euclidean',\n",
       " 'eps': 1e-09,\n",
       " 'max_iter': 1000,\n",
       " 'metric': True,\n",
       " 'n_components': 2,\n",
       " 'n_init': 4,\n",
       " 'n_jobs': 2,\n",
       " 'random_state': <mtrand.RandomState at 0x7f3102a80480>,\n",
       " 'verbose': 0}"
      ]
     },
     "execution_count": 27,
     "metadata": {},
     "output_type": "execute_result"
    }
   ],
   "source": [
    "mds.get_params()"
   ]
  },
  {
   "cell_type": "code",
   "execution_count": null,
   "metadata": {
    "collapsed": true
   },
   "outputs": [],
   "source": []
  },
  {
   "cell_type": "code",
   "execution_count": null,
   "metadata": {
    "collapsed": true
   },
   "outputs": [],
   "source": []
  },
  {
   "cell_type": "code",
   "execution_count": 2,
   "metadata": {
    "collapsed": true
   },
   "outputs": [],
   "source": [
    "def _connect_mongo():\n",
    "    \"\"\" A util for making a connection to mongo \"\"\"\n",
    "    host = \"localhost\"\n",
    "    port = 27017\n",
    "    username = \"\"\n",
    "    password = \"\"\n",
    "    db = \"5gopt\"\n",
    "\n",
    "    if username and password:\n",
    "        mongo_uri = 'mongodb://%s:%s@%s:%s/%s' % (username, password, host, port, db)\n",
    "        conn = MongoClient(mongo_uri)\n",
    "    else:\n",
    "        conn = MongoClient(host, port)\n",
    "\n",
    "\n",
    "    return conn[db]"
   ]
  },
  {
   "cell_type": "code",
   "execution_count": 3,
   "metadata": {
    "collapsed": true
   },
   "outputs": [],
   "source": [
    "def collection_read_mongo(collection, query={}, no_id = True):\n",
    "    db = _connect_mongo()\n",
    "    cursor = db[collection].find(query)\n",
    "    df = pd.DataFrame(list(cursor))\n",
    "\n",
    "    if no_id:\n",
    "        try:\n",
    "            del df[\"_id\"]\n",
    "        except:\n",
    "            pass\n",
    "    return df"
   ]
  },
  {
   "cell_type": "code",
   "execution_count": 4,
   "metadata": {
    "collapsed": true
   },
   "outputs": [],
   "source": [
    "data = collection_read_mongo(collection=\"main_file_with_UserTHR\")"
   ]
  },
  {
   "cell_type": "code",
   "execution_count": 5,
   "metadata": {},
   "outputs": [
    {
     "data": {
      "text/plain": [
       "(2202660, 9)"
      ]
     },
     "execution_count": 5,
     "metadata": {},
     "output_type": "execute_result"
    }
   ],
   "source": [
    "data.shape"
   ]
  },
  {
   "cell_type": "code",
   "execution_count": 6,
   "metadata": {},
   "outputs": [
    {
     "data": {
      "text/html": [
       "<div>\n",
       "<style>\n",
       "    .dataframe thead tr:only-child th {\n",
       "        text-align: right;\n",
       "    }\n",
       "\n",
       "    .dataframe thead th {\n",
       "        text-align: left;\n",
       "    }\n",
       "\n",
       "    .dataframe tbody tr th {\n",
       "        vertical-align: top;\n",
       "    }\n",
       "</style>\n",
       "<table border=\"1\" class=\"dataframe\">\n",
       "  <thead>\n",
       "    <tr style=\"text-align: right;\">\n",
       "      <th></th>\n",
       "      <th>CellID</th>\n",
       "      <th>LocationX</th>\n",
       "      <th>LocationY</th>\n",
       "      <th>RSRP</th>\n",
       "      <th>RSRQ</th>\n",
       "      <th>SINR</th>\n",
       "      <th>Time</th>\n",
       "      <th>UserID</th>\n",
       "      <th>UserThR</th>\n",
       "    </tr>\n",
       "  </thead>\n",
       "  <tbody>\n",
       "    <tr>\n",
       "      <th>0</th>\n",
       "      <td>1</td>\n",
       "      <td>361.511436</td>\n",
       "      <td>361.511436</td>\n",
       "      <td>-67.061741</td>\n",
       "      <td>NaN</td>\n",
       "      <td>86</td>\n",
       "      <td>0.2</td>\n",
       "      <td>1</td>\n",
       "      <td>86</td>\n",
       "    </tr>\n",
       "    <tr>\n",
       "      <th>1</th>\n",
       "      <td>2</td>\n",
       "      <td>361.511436</td>\n",
       "      <td>361.511436</td>\n",
       "      <td>-83.859050</td>\n",
       "      <td>NaN</td>\n",
       "      <td>77</td>\n",
       "      <td>0.2</td>\n",
       "      <td>1</td>\n",
       "      <td>77</td>\n",
       "    </tr>\n",
       "    <tr>\n",
       "      <th>2</th>\n",
       "      <td>3</td>\n",
       "      <td>361.511436</td>\n",
       "      <td>361.511436</td>\n",
       "      <td>-83.203628</td>\n",
       "      <td>NaN</td>\n",
       "      <td>15</td>\n",
       "      <td>0.2</td>\n",
       "      <td>1</td>\n",
       "      <td>15</td>\n",
       "    </tr>\n",
       "  </tbody>\n",
       "</table>\n",
       "</div>"
      ],
      "text/plain": [
       "   CellID   LocationX   LocationY       RSRP  RSRQ  SINR  Time  UserID  \\\n",
       "0       1  361.511436  361.511436 -67.061741   NaN    86   0.2       1   \n",
       "1       2  361.511436  361.511436 -83.859050   NaN    77   0.2       1   \n",
       "2       3  361.511436  361.511436 -83.203628   NaN    15   0.2       1   \n",
       "\n",
       "   UserThR  \n",
       "0       86  \n",
       "1       77  \n",
       "2       15  "
      ]
     },
     "execution_count": 6,
     "metadata": {},
     "output_type": "execute_result"
    }
   ],
   "source": [
    "data[:3]"
   ]
  },
  {
   "cell_type": "code",
   "execution_count": 7,
   "metadata": {
    "collapsed": true
   },
   "outputs": [],
   "source": [
    "testData = data[:1000]"
   ]
  },
  {
   "cell_type": "code",
   "execution_count": 8,
   "metadata": {
    "collapsed": true
   },
   "outputs": [],
   "source": [
    "groupedData = "
   ]
  },
  {
   "cell_type": "code",
   "execution_count": 24,
   "metadata": {},
   "outputs": [
    {
     "data": {
      "text/plain": [
       "0.0"
      ]
     },
     "execution_count": 24,
     "metadata": {},
     "output_type": "execute_result"
    }
   ],
   "source": [
    "max(data[\"Throughput\"])"
   ]
  },
  {
   "cell_type": "code",
   "execution_count": 25,
   "metadata": {
    "collapsed": true
   },
   "outputs": [],
   "source": [
    "groupedData = data.groupby([\"Time\", \"CellID\"])[[\"Throughput\"]].sum()"
   ]
  },
  {
   "cell_type": "code",
   "execution_count": 26,
   "metadata": {},
   "outputs": [
    {
     "data": {
      "text/plain": [
       "pandas.core.frame.DataFrame"
      ]
     },
     "execution_count": 26,
     "metadata": {},
     "output_type": "execute_result"
    }
   ],
   "source": [
    "type(groupedData)"
   ]
  },
  {
   "cell_type": "code",
   "execution_count": 27,
   "metadata": {},
   "outputs": [
    {
     "data": {
      "text/html": [
       "<div>\n",
       "<style>\n",
       "    .dataframe thead tr:only-child th {\n",
       "        text-align: right;\n",
       "    }\n",
       "\n",
       "    .dataframe thead th {\n",
       "        text-align: left;\n",
       "    }\n",
       "\n",
       "    .dataframe tbody tr th {\n",
       "        vertical-align: top;\n",
       "    }\n",
       "</style>\n",
       "<table border=\"1\" class=\"dataframe\">\n",
       "  <thead>\n",
       "    <tr style=\"text-align: right;\">\n",
       "      <th></th>\n",
       "      <th></th>\n",
       "      <th>Throughput</th>\n",
       "    </tr>\n",
       "    <tr>\n",
       "      <th>Time</th>\n",
       "      <th>CellID</th>\n",
       "      <th></th>\n",
       "    </tr>\n",
       "  </thead>\n",
       "  <tbody>\n",
       "    <tr>\n",
       "      <th>0.2</th>\n",
       "      <th>0</th>\n",
       "      <td>0.0</td>\n",
       "    </tr>\n",
       "    <tr>\n",
       "      <th rowspan=\"4\" valign=\"top\">0.4</th>\n",
       "      <th>1</th>\n",
       "      <td>0.0</td>\n",
       "    </tr>\n",
       "    <tr>\n",
       "      <th>2</th>\n",
       "      <td>0.0</td>\n",
       "    </tr>\n",
       "    <tr>\n",
       "      <th>4</th>\n",
       "      <td>0.0</td>\n",
       "    </tr>\n",
       "    <tr>\n",
       "      <th>5</th>\n",
       "      <td>0.0</td>\n",
       "    </tr>\n",
       "  </tbody>\n",
       "</table>\n",
       "</div>"
      ],
      "text/plain": [
       "             Throughput\n",
       "Time CellID            \n",
       "0.2  0              0.0\n",
       "0.4  1              0.0\n",
       "     2              0.0\n",
       "     4              0.0\n",
       "     5              0.0"
      ]
     },
     "execution_count": 27,
     "metadata": {},
     "output_type": "execute_result"
    }
   ],
   "source": [
    "groupedData[:5]"
   ]
  },
  {
   "cell_type": "code",
   "execution_count": 17,
   "metadata": {
    "collapsed": true
   },
   "outputs": [],
   "source": [
    "df = groupedData.to_frame"
   ]
  },
  {
   "cell_type": "code",
   "execution_count": 23,
   "metadata": {},
   "outputs": [
    {
     "data": {
      "text/plain": [
       "0.0"
      ]
     },
     "execution_count": 23,
     "metadata": {},
     "output_type": "execute_result"
    }
   ],
   "source": [
    "groupedData[36.2, 2]"
   ]
  },
  {
   "cell_type": "code",
   "execution_count": 28,
   "metadata": {},
   "outputs": [
    {
     "data": {
      "text/plain": [
       "Time  CellID\n",
       "0.2   0         0.0\n",
       "0.4   1         0.0\n",
       "      2         0.0\n",
       "      4         0.0\n",
       "      5         0.0\n",
       "      6         0.0\n",
       "      7         0.0\n",
       "      8         0.0\n",
       "      9         0.0\n",
       "0.6   1         0.0\n",
       "      2         0.0\n",
       "      4         0.0\n",
       "      5         0.0\n",
       "      6         0.0\n",
       "      7         0.0\n",
       "      8         0.0\n",
       "      9         0.0\n",
       "0.8   1         0.0\n",
       "      2         0.0\n",
       "      4         0.0\n",
       "      5         0.0\n",
       "      6         0.0\n",
       "      7         0.0\n",
       "      8         0.0\n",
       "      9         0.0\n",
       "1.0   1         0.0\n",
       "      2         0.0\n",
       "      4         0.0\n",
       "      5         0.0\n",
       "      6         0.0\n",
       "               ... \n",
       "37.2  3         0.0\n",
       "      4         0.0\n",
       "      5         0.0\n",
       "      6         0.0\n",
       "      8         0.0\n",
       "      9         0.0\n",
       "37.4  1         0.0\n",
       "      2         0.0\n",
       "      3         0.0\n",
       "      4         0.0\n",
       "      5         0.0\n",
       "      6         0.0\n",
       "      8         0.0\n",
       "      9         0.0\n",
       "37.6  1         0.0\n",
       "      2         0.0\n",
       "      3         0.0\n",
       "      4         0.0\n",
       "      5         0.0\n",
       "      6         0.0\n",
       "      8         0.0\n",
       "      9         0.0\n",
       "37.8  1         0.0\n",
       "      2         0.0\n",
       "      3         0.0\n",
       "      4         0.0\n",
       "      5         0.0\n",
       "      6         0.0\n",
       "      8         0.0\n",
       "      9         0.0\n",
       "Name: Throughput, Length: 1574, dtype: float64"
      ]
     },
     "execution_count": 28,
     "metadata": {},
     "output_type": "execute_result"
    }
   ],
   "source": [
    "groupedData[\"Throughput\"]"
   ]
  }
 ],
 "metadata": {
  "kernelspec": {
   "display_name": "Python 3",
   "language": "python",
   "name": "python3"
  },
  "language_info": {
   "codemirror_mode": {
    "name": "ipython",
    "version": 3
   },
   "file_extension": ".py",
   "mimetype": "text/x-python",
   "name": "python",
   "nbconvert_exporter": "python",
   "pygments_lexer": "ipython3",
   "version": "3.6.3"
  }
 },
 "nbformat": 4,
 "nbformat_minor": 2
}
